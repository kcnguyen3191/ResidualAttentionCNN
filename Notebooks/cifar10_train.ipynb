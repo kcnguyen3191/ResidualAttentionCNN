{
 "cells": [
  {
   "cell_type": "code",
   "execution_count": null,
   "metadata": {},
   "outputs": [],
   "source": [
    "import torch.nn as nn\n",
    "import torch\n",
    "import torch.nn as nn\n",
    "import numpy as np\n",
    "import os\n",
    "import cv2\n",
    "\n",
    "import sys\n",
    "sys.path.append('../')\n",
    "sys.path.append('../../')\n",
    "sys.path.append('../../../')\n",
    "\n",
    "from Scripts.Utils.Imports import *\n",
    "from Scripts.Models.AttentionModel import *\n",
    "import Scripts.cifar10_DataLoader as DL\n",
    "import Modules.Utils.ModelWrapperGenerator as MW\n"
   ]
  },
  {
   "cell_type": "code",
   "execution_count": null,
   "metadata": {},
   "outputs": [],
   "source": [
    "# If use GPU\n",
    "device = torch.device(GetLowestGPU(pick_from=[0]))\n",
    "# If use CPU\n",
    "# device = torch.device(\"cpu\")\n",
    "\n",
    "# helper functions\n",
    "def to_torch(x):\n",
    "    return torch.from_numpy(x).float().to(device)\n",
    "def to_numpy(x):\n",
    "    return x.detach().cpu().numpy()"
   ]
  },
  {
   "cell_type": "code",
   "execution_count": null,
   "metadata": {},
   "outputs": [],
   "source": [
    "p_train = np.random.permutation(50000)\n",
    "p_val = np.random.permutation(10000)\n",
    "\n",
    "path = 'data'\n",
    "train_dataset = DL.DataLoader(p_train, path, train=True)\n",
    "val_dataset = DL.DataLoader(p_val, path, train=False)"
   ]
  },
  {
   "cell_type": "code",
   "execution_count": null,
   "metadata": {},
   "outputs": [],
   "source": [
    "lr = 0.001\n",
    "criterion = nn.CrossEntropyLoss()\n",
    "\n",
    "def Radar_BCE(pred, true):\n",
    "    return nn.functional.binary_cross_entropy(pred, true)\n",
    "\n",
    "cnn = CNN_with_Attention(input_features=3, output_features=10)\n",
    "cnn.to(device)\n",
    "opt = torch.optim.Adam(cnn.parameters(), lr=lr)\n",
    "\n",
    "model = MW.ModelWrapper(\n",
    "        model=cnn,\n",
    "        optimizer=opt,\n",
    "        loss=criterion,\n",
    "        save_name='../Weights/attention_demo3',\n",
    "        device=device)\n",
    "\n",
    "# train\n",
    "epochs = 100\n",
    "batch_size = 64\n",
    "workers = 4\n",
    "model.fit(\n",
    "    train_dataset=train_dataset,\n",
    "    batch_size=batch_size,\n",
    "    epochs=epochs,\n",
    "    # verbose=1,\n",
    "    validation_dataset=val_dataset,\n",
    "    workers=workers)"
   ]
  },
  {
   "cell_type": "code",
   "execution_count": null,
   "metadata": {},
   "outputs": [],
   "source": []
  },
  {
   "cell_type": "code",
   "execution_count": null,
   "metadata": {},
   "outputs": [],
   "source": []
  }
 ],
 "metadata": {
  "kernelspec": {
   "display_name": "Python 3 (ipykernel)",
   "language": "python",
   "name": "python3"
  },
  "language_info": {
   "codemirror_mode": {
    "name": "ipython",
    "version": 3
   },
   "file_extension": ".py",
   "mimetype": "text/x-python",
   "name": "python",
   "nbconvert_exporter": "python",
   "pygments_lexer": "ipython3",
   "version": "3.10.12"
  }
 },
 "nbformat": 4,
 "nbformat_minor": 4
}
